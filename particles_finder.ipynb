{
 "cells": [
  {
   "cell_type": "code",
   "execution_count": 1,
   "id": "d0cdad62",
   "metadata": {},
   "outputs": [],
   "source": [
    "import pandas as pd\n",
    "import re"
   ]
  },
  {
   "cell_type": "code",
   "execution_count": 1,
   "id": "4a3c4be8",
   "metadata": {
    "scrolled": true
   },
   "outputs": [],
   "source": [
    "data = pd.read_csv(\"slowaENG2.csv\", sep = ';', encoding='cp1250')\n",
    "listaSlow = list(data['Word'])"
   ]
  },
  {
   "cell_type": "code",
   "execution_count": 2,
   "id": "80cd53d9",
   "metadata": {},
   "outputs": [],
   "source": [
    "dlugoscCzastki = 2\n",
    "listaCzastek = []\n",
    "\n",
    "for i in listaSlow:\n",
    "    for j in range(0,len(i)-dlugoscCzastki+1):\n",
    "        czastka = i[j:j+dlugoscCzastki]\n",
    "        listaCzastek.append(czastka)\n",
    "\n",
    "listaCzastek = list(dict.fromkeys(listaCzastek))\n"
   ]
  },
  {
   "cell_type": "code",
   "execution_count": 3,
   "id": "1a7df55e",
   "metadata": {},
   "outputs": [],
   "source": [
    "\n",
    "czestotliwoscCzastek = [0] * len(listaCzastek)\n",
    "\n",
    "slowaNaPoczatku = [0] * len(listaCzastek)\n",
    "slowaWSrodku = [0] * len(listaCzastek)\n",
    "slowaNaKoncu = [0] * len(listaCzastek)\n",
    "\n",
    "\n",
    "\n",
    "indexI = 0\n",
    "for i in listaSlow:\n",
    "    indexI += 1\n",
    "    for j in range(0,len(i)-dlugoscCzastki+1):\n",
    "        czastka = i[j:j+dlugoscCzastki]\n",
    "        indexK = 0\n",
    "        for k in listaCzastek:\n",
    "            if(czastka==k):\n",
    "                czestotliwoscCzastek[indexK]+=1\n",
    "                regexPoczatek =  r\"^\" + re.escape(czastka)\n",
    "                regexKoniec = re.escape(czastka) + r\"$\"\n",
    "                \n",
    "                if re.search(regexPoczatek, i)!=None:\n",
    "                    slowaNaPoczatku[indexK]+=1\n",
    "                elif re.search(regexKoniec, i)!=None:\n",
    "                    slowaNaKoncu[indexK]+=1\n",
    "                else:\n",
    "                    slowaWSrodku[indexK]+=1\n",
    "                \n",
    "            indexK += 1\n",
    "\n"
   ]
  },
  {
   "cell_type": "code",
   "execution_count": null,
   "id": "bd842e21",
   "metadata": {
    "scrolled": true
   },
   "outputs": [],
   "source": [
    "kolumny = {'czastka': listaCzastek, 'czestotliwosc': czestotliwoscCzastek, 'poczatek': slowaNaPoczatku, 'srodek': slowaWSrodku, 'koniec': slowaNaKoncu}\n",
    "ramkaKoncowa = pd.DataFrame(data=kolumny)\n",
    "\n",
    "ramkaKoncowa = ramkaKoncowa.sort_values(by='czestotliwosc', ascending=False)\n",
    "\n",
    "print(ramkaKoncowa)\n",
    "\n",
    "ramkaKoncowa.to_excel(\"ramkaKoncowaENG2.xlsx\")"
   ]
  },
  {
   "cell_type": "code",
   "execution_count": 5,
   "id": "eb210c78",
   "metadata": {},
   "outputs": [],
   "source": [
    "#poniżej po polsku - musi być inaczej, bo plik txt z Morfeusza ma dodatkowe informacje o rodzajach słów itp.\n",
    "#wielkieLitery = ['A', 'B', 'C' ,'D', 'E', 'F' ,'G', 'H', 'I' ,'J', 'K', 'L' ,'Ł', 'R', 'S' ,'T', 'U', 'W' ,'X', 'Y', 'Z' ,'Ó', 'Ć']     \n",
    "wielkieLitery = []\n",
    "\n",
    "for i in range(65, 91):\n",
    "    wielkieLitery.append(chr(i))"
   ]
  },
  {
   "cell_type": "code",
   "execution_count": null,
   "id": "a721ff3c",
   "metadata": {
    "scrolled": true
   },
   "outputs": [],
   "source": [
    "#plik z Morfeusza http://download.sgjp.pl/morfeusz/20221204/\n",
    "zbior_slow_pl = pd.read_csv(\"sgjp-20221204.txt\",  sep='\\t')\n",
    "\n",
    "slowo = zbior_slow_pl['AA']\n",
    "rodzaj = zbior_slow_pl['subst:pl:nom.gen.dat.acc.inst.loc.voc:m1:pt']\n",
    "kategoria = zbior_slow_pl['nazwa_organizacji']\n",
    "\n",
    "noweSlowo = []\n",
    "nowyRodzaj = []\n",
    "NowaKategoria = []\n",
    "\n",
    "\n",
    "index = 0\n",
    "for i in rodzaj:\n",
    "    if 'subst:sg:nom' in i:\n",
    "        if 'nazwa_pospolita' in str(kategoria[index]):\n",
    "            indexJ = 0\n",
    "            licznikWielkichLiter = 0\n",
    "            for j in wielkieLitery:\n",
    "                indexJ += 1\n",
    "                if j in slowo[index]:\n",
    "                    licznikWielkichLiter += 1\n",
    "                if j not in slowo[index]:\n",
    "                    if licznikWielkichLiter == 0 and indexJ == len(wielkieLitery):\n",
    "                        print(slowo[index])\n",
    "                        noweSlowo.append(slowo[index])\n",
    "        #nowyRodzaj.append()\n",
    "        #NowaKategoria.append()\n",
    "    index += 1\n",
    "\n"
   ]
  },
  {
   "cell_type": "code",
   "execution_count": 7,
   "id": "2311cdfd",
   "metadata": {},
   "outputs": [],
   "source": [
    "dlugoscCzastki = 2\n",
    "listaCzastek = []\n",
    "\n",
    "for i in noweSlowo:\n",
    "    for j in range(0,len(i)-dlugoscCzastki+1):\n",
    "        czastka = i[j:j+dlugoscCzastki]\n",
    "        listaCzastek.append(czastka)\n",
    "\n",
    "listaCzastek = list(dict.fromkeys(listaCzastek))\n"
   ]
  },
  {
   "cell_type": "code",
   "execution_count": null,
   "id": "39936a3c",
   "metadata": {},
   "outputs": [],
   "source": [
    "\n",
    "czestotliwoscCzastek = [0] * len(listaCzastek)\n",
    "\n",
    "slowaNaPoczatku = [0] * len(listaCzastek)\n",
    "slowaWSrodku = [0] * len(listaCzastek)\n",
    "slowaNaKoncu = [0] * len(listaCzastek)\n",
    "\n",
    "\n",
    "\n",
    "indexI = 0\n",
    "for i in noweSlowo:\n",
    "    print(str(indexI) + '/' + str(len(noweSlowo)))\n",
    "    indexI += 1\n",
    "    for j in range(0,len(i)-dlugoscCzastki+1):\n",
    "        czastka = i[j:j+dlugoscCzastki]\n",
    "        indexK = 0\n",
    "        for k in listaCzastek:\n",
    "            if(czastka==k):\n",
    "                czestotliwoscCzastek[indexK]+=1\n",
    "                regexPoczatek =  r\"^\" + re.escape(czastka)\n",
    "                regexKoniec = re.escape(czastka) + r\"$\"\n",
    "                \n",
    "                if re.search(regexPoczatek, i)!=None:\n",
    "                    slowaNaPoczatku[indexK]+=1\n",
    "                elif re.search(regexKoniec, i)!=None:\n",
    "                    slowaNaKoncu[indexK]+=1\n",
    "                else:\n",
    "                    slowaWSrodku[indexK]+=1\n",
    "                \n",
    "            indexK += 1\n",
    "\n"
   ]
  },
  {
   "cell_type": "code",
   "execution_count": null,
   "id": "afd4a333",
   "metadata": {},
   "outputs": [],
   "source": [
    "kolumny = {'czastka': listaCzastek, 'czestotliwosc': czestotliwoscCzastek, 'poczatek': slowaNaPoczatku, 'srodek': slowaWSrodku, 'koniec': slowaNaKoncu}\n",
    "ramkaKoncowa = pd.DataFrame(data=kolumny)\n",
    "\n",
    "ramkaKoncowa = ramkaKoncowa.sort_values(by='czestotliwosc', ascending=False)\n",
    "\n",
    "print(ramkaKoncowa)\n",
    "\n",
    "ramkaKoncowa.to_excel(\"ramkaKoncowaPL2.xlsx\")"
   ]
  }
 ],
 "metadata": {
  "kernelspec": {
   "display_name": "Python 3 (ipykernel)",
   "language": "python",
   "name": "python3"
  },
  "language_info": {
   "codemirror_mode": {
    "name": "ipython",
    "version": 3
   },
   "file_extension": ".py",
   "mimetype": "text/x-python",
   "name": "python",
   "nbconvert_exporter": "python",
   "pygments_lexer": "ipython3",
   "version": "3.11.0"
  }
 },
 "nbformat": 4,
 "nbformat_minor": 5
}
